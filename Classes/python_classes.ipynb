{
 "cells": [
  {
   "cell_type": "code",
   "execution_count": 1,
   "id": "68b562fb",
   "metadata": {},
   "outputs": [
    {
     "data": {
      "application/javascript": [
       "\n",
       "            setTimeout(function() {\n",
       "                var nbb_cell_id = 1;\n",
       "                var nbb_unformatted_code = \"%load_ext nb_black\\n\\nimport warnings\\nwarnings.filterwarnings(\\\"ignore\\\", category=FutureWarning)\";\n",
       "                var nbb_formatted_code = \"%load_ext nb_black\\n\\nimport warnings\\n\\nwarnings.filterwarnings(\\\"ignore\\\", category=FutureWarning)\";\n",
       "                var nbb_cells = Jupyter.notebook.get_cells();\n",
       "                for (var i = 0; i < nbb_cells.length; ++i) {\n",
       "                    if (nbb_cells[i].input_prompt_number == nbb_cell_id) {\n",
       "                        if (nbb_cells[i].get_text() == nbb_unformatted_code) {\n",
       "                             nbb_cells[i].set_text(nbb_formatted_code);\n",
       "                        }\n",
       "                        break;\n",
       "                    }\n",
       "                }\n",
       "            }, 500);\n",
       "            "
      ],
      "text/plain": [
       "<IPython.core.display.Javascript object>"
      ]
     },
     "metadata": {},
     "output_type": "display_data"
    }
   ],
   "source": [
    "%load_ext nb_black\n",
    "\n",
    "import warnings\n",
    "\n",
    "warnings.filterwarnings(\"ignore\", category=FutureWarning)"
   ]
  },
  {
   "cell_type": "markdown",
   "id": "8125352c",
   "metadata": {},
   "source": [
    "[Link for this tutorial](https://towardsdatascience.com/how-to-write-awesome-python-classes-f2e1f05e51a9)"
   ]
  },
  {
   "cell_type": "markdown",
   "id": "b924de7d",
   "metadata": {},
   "source": [
    "## Magic Methods"
   ]
  },
  {
   "cell_type": "markdown",
   "id": "c6e96e2d",
   "metadata": {},
   "source": [
    "They enable you to write classes that can be used together with python built-in methods. If you do so, you will write more readable and less verbose code."
   ]
  },
  {
   "cell_type": "code",
   "execution_count": 13,
   "id": "9b3e98bd",
   "metadata": {},
   "outputs": [
    {
     "data": {
      "application/javascript": [
       "\n",
       "            setTimeout(function() {\n",
       "                var nbb_cell_id = 13;\n",
       "                var nbb_unformatted_code = \"from datetime import datetime, timedelta\\nfrom typing import Iterable\\nfrom math import ceil\\n\\n\\nclass DateTimeRange:\\n    def __init__(\\n        self, start: datetime, end_: datetime, step: timedelta = timedelta(seconds=1)\\n    ):\\n        self._start = start\\n        self._end = end_\\n        self._step = step\\n\\n    def __iter__(self) -> Iterable[datetime]:\\n        point = self._start\\n        while point < self._end:\\n            yield point\\n            point += self._step\\n\\n    def __len__(self) -> int:\\n        return ceil((self._end - self._start) / self._step)\\n\\n    def __contains__(self, item: datetime) -> bool:\\n        mod = divmod(item - self._start, self._step)\\n        return item >= self._start and item < self._end and mod[1] == timedelta(0)\\n\\n    def __getitem__(self, item: int) -> datetime:\\n        n_steps = item if item >= 0 else len(self) + item\\n        return_value = self._start + n_steps * self._step\\n        if return_value not in self:\\n            raise IndexError()\\n\\n        return return_value\\n\\n    def _str_(self):\\n        return f\\\"Datetime Range ({self._start},{self._end}) with step {self._step}\\\"\";\n",
       "                var nbb_formatted_code = \"from datetime import datetime, timedelta\\nfrom typing import Iterable\\nfrom math import ceil\\n\\n\\nclass DateTimeRange:\\n    def __init__(\\n        self, start: datetime, end_: datetime, step: timedelta = timedelta(seconds=1)\\n    ):\\n        self._start = start\\n        self._end = end_\\n        self._step = step\\n\\n    def __iter__(self) -> Iterable[datetime]:\\n        point = self._start\\n        while point < self._end:\\n            yield point\\n            point += self._step\\n\\n    def __len__(self) -> int:\\n        return ceil((self._end - self._start) / self._step)\\n\\n    def __contains__(self, item: datetime) -> bool:\\n        mod = divmod(item - self._start, self._step)\\n        return item >= self._start and item < self._end and mod[1] == timedelta(0)\\n\\n    def __getitem__(self, item: int) -> datetime:\\n        n_steps = item if item >= 0 else len(self) + item\\n        return_value = self._start + n_steps * self._step\\n        if return_value not in self:\\n            raise IndexError()\\n\\n        return return_value\\n\\n    def _str_(self):\\n        return f\\\"Datetime Range ({self._start},{self._end}) with step {self._step}\\\"\";\n",
       "                var nbb_cells = Jupyter.notebook.get_cells();\n",
       "                for (var i = 0; i < nbb_cells.length; ++i) {\n",
       "                    if (nbb_cells[i].input_prompt_number == nbb_cell_id) {\n",
       "                        if (nbb_cells[i].get_text() == nbb_unformatted_code) {\n",
       "                             nbb_cells[i].set_text(nbb_formatted_code);\n",
       "                        }\n",
       "                        break;\n",
       "                    }\n",
       "                }\n",
       "            }, 500);\n",
       "            "
      ],
      "text/plain": [
       "<IPython.core.display.Javascript object>"
      ]
     },
     "metadata": {},
     "output_type": "display_data"
    }
   ],
   "source": [
    "from datetime import datetime, timedelta\n",
    "from typing import Iterable\n",
    "from math import ceil\n",
    "\n",
    "\n",
    "class DateTimeRange:\n",
    "    def __init__(\n",
    "        self, start: datetime, end_: datetime, step: timedelta = timedelta(seconds=1)\n",
    "    ):\n",
    "        self._start = start\n",
    "        self._end = end_\n",
    "        self._step = step\n",
    "\n",
    "    def __iter__(self) -> Iterable[datetime]:\n",
    "        point = self._start\n",
    "        while point < self._end:\n",
    "            yield point\n",
    "            point += self._step\n",
    "\n",
    "    def __len__(self) -> int:\n",
    "        return ceil((self._end - self._start) / self._step)\n",
    "\n",
    "    def __contains__(self, item: datetime) -> bool:\n",
    "        mod = divmod(item - self._start, self._step)\n",
    "        return item >= self._start and item < self._end and mod[1] == timedelta(0)\n",
    "\n",
    "    def __getitem__(self, item: int) -> datetime:\n",
    "        n_steps = item if item >= 0 else len(self) + item\n",
    "        return_value = self._start + n_steps * self._step\n",
    "        if return_value not in self:\n",
    "            raise IndexError()\n",
    "\n",
    "        return return_value\n",
    "\n",
    "    def _str_(self):\n",
    "        return f\"Datetime Range ({self._start},{self._end}) with step {self._step}\""
   ]
  },
  {
   "cell_type": "code",
   "execution_count": 14,
   "id": "dfe2f270",
   "metadata": {},
   "outputs": [
    {
     "name": "stdout",
     "output_type": "stream",
     "text": [
      "<__main__.DateTimeRange object at 0x000001E56DBDB370>\n"
     ]
    },
    {
     "data": {
      "text/plain": [
       "False"
      ]
     },
     "execution_count": 14,
     "metadata": {},
     "output_type": "execute_result"
    },
    {
     "data": {
      "application/javascript": [
       "\n",
       "            setTimeout(function() {\n",
       "                var nbb_cell_id = 14;\n",
       "                var nbb_unformatted_code = \"# usage\\n\\nmy_range = DateTimeRange(\\n    datetime(2021, 1, 1), datetime(2021, 12, 1), timedelta(days=12)\\n)\\nprint(my_range)\\nassert len(my_range) == len(list(my_range))\\nmy_range[-2] in my_range\\nmy_range[2] + timedelta(seconds=12) in my_range\\n# for r in my_range:\\n#     do_something(r)\";\n",
       "                var nbb_formatted_code = \"# usage\\n\\nmy_range = DateTimeRange(\\n    datetime(2021, 1, 1), datetime(2021, 12, 1), timedelta(days=12)\\n)\\nprint(my_range)\\nassert len(my_range) == len(list(my_range))\\nmy_range[-2] in my_range\\nmy_range[2] + timedelta(seconds=12) in my_range\\n# for r in my_range:\\n#     do_something(r)\";\n",
       "                var nbb_cells = Jupyter.notebook.get_cells();\n",
       "                for (var i = 0; i < nbb_cells.length; ++i) {\n",
       "                    if (nbb_cells[i].input_prompt_number == nbb_cell_id) {\n",
       "                        if (nbb_cells[i].get_text() == nbb_unformatted_code) {\n",
       "                             nbb_cells[i].set_text(nbb_formatted_code);\n",
       "                        }\n",
       "                        break;\n",
       "                    }\n",
       "                }\n",
       "            }, 500);\n",
       "            "
      ],
      "text/plain": [
       "<IPython.core.display.Javascript object>"
      ]
     },
     "metadata": {},
     "output_type": "display_data"
    }
   ],
   "source": [
    "# usage\n",
    "\n",
    "my_range = DateTimeRange(\n",
    "    datetime(2021, 1, 1), datetime(2021, 12, 1), timedelta(days=12)\n",
    ")\n",
    "print(my_range)\n",
    "assert len(my_range) == len(list(my_range))\n",
    "my_range[-2] in my_range\n",
    "my_range[2] + timedelta(seconds=12) in my_range\n",
    "# for r in my_range:\n",
    "#     do_something(r)"
   ]
  },
  {
   "cell_type": "markdown",
   "id": "43c3780d",
   "metadata": {},
   "source": [
    "### __init__ method"
   ]
  },
  {
   "cell_type": "markdown",
   "id": "41e94e32",
   "metadata": {},
   "source": [
    "This method is mainly used to initialize your class's instance attributes. Here, we set the start and end of our range class together with the step size."
   ]
  },
  {
   "cell_type": "markdown",
   "id": "b8617dfd",
   "metadata": {},
   "source": [
    "### iter method"
   ]
  },
  {
   "cell_type": "markdown",
   "id": "702304ef",
   "metadata": {},
   "source": [
    "This generates all the elements that are part of our datetime range. This is the generator function that creates one element at a time, yields it to the caller, and allows the caller to process it. It does that until it reaches the end of the range."
   ]
  },
  {
   "cell_type": "markdown",
   "id": "99f75f9b",
   "metadata": {},
   "source": [
    "You can easily identify a generator function when seeing the yield keyword. This statement pauses the function saving all its states and later continues from there on successive calls. This allows you to consume one element at a time and work with it without requiring you to have every element in memory."
   ]
  },
  {
   "cell_type": "markdown",
   "id": "068e5f5d",
   "metadata": {},
   "source": [
    "### len, contains and get item methods "
   ]
  },
  {
   "cell_type": "markdown",
   "id": "dde51753",
   "metadata": {},
   "source": [
    "With __len__ you can find out the number of elements that are part of your range by calling len(my_range) . This can become super helpful for example when you are iterating over all elements and want to know how many elements you’ve already processed out of all available ones. "
   ]
  },
  {
   "cell_type": "markdown",
   "id": "eb71cac1",
   "metadata": {},
   "source": [
    "With __contains__ you can check if an element is part of your range using the built-in syntax element in my_range. The nice thing about the given implementation is that this is done using pure math without having to compare the given element with all elements from the range. This means that checking if an element is part of your range is a constant time operation and doesn’t depend on the size of the actual range instance."
   ]
  },
  {
   "cell_type": "markdown",
   "id": "cd3acd9d",
   "metadata": {},
   "source": [
    "With __getitem__ you can use indexing syntax to retrieve entries from your objects. So for example, you can get the last element of our range writing my_range[-1]"
   ]
  },
  {
   "cell_type": "markdown",
   "id": "bd0e2669",
   "metadata": {},
   "source": [
    "### str method "
   ]
  },
  {
   "cell_type": "markdown",
   "id": "b5b10de9",
   "metadata": {},
   "source": [
    "What this method does is allow you to convert an instance of your class to a string. This becomes very handy when calling print(my_range) as print has to transform an instance into a string and therefore uses the __str__ method."
   ]
  }
 ],
 "metadata": {
  "kernelspec": {
   "display_name": "Python 3",
   "language": "python",
   "name": "python3"
  },
  "language_info": {
   "codemirror_mode": {
    "name": "ipython",
    "version": 3
   },
   "file_extension": ".py",
   "mimetype": "text/x-python",
   "name": "python",
   "nbconvert_exporter": "python",
   "pygments_lexer": "ipython3",
   "version": "3.8.8"
  }
 },
 "nbformat": 4,
 "nbformat_minor": 5
}
