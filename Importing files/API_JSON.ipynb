{
 "cells": [
  {
   "cell_type": "code",
   "execution_count": 1,
   "metadata": {},
   "outputs": [],
   "source": [
    "import pandas as pd\n",
    "import numpy as np"
   ]
  },
  {
   "cell_type": "code",
   "execution_count": 2,
   "metadata": {},
   "outputs": [
    {
     "data": {
      "text/plain": [
       "dict"
      ]
     },
     "execution_count": 2,
     "metadata": {},
     "output_type": "execute_result"
    }
   ],
   "source": [
    "import json\n",
    "\n",
    "with open(\"gladiator.json\", \"r\") as json_file:\n",
    "    json_data = json.load(json_file)\n",
    "\n",
    "type(json_data)"
   ]
  },
  {
   "cell_type": "code",
   "execution_count": 3,
   "metadata": {},
   "outputs": [
    {
     "name": "stdout",
     "output_type": "stream",
     "text": [
      "Title: Gladiator\n",
      "Year: 2000\n",
      "Rated: R\n",
      "Released: 05 May 2000\n",
      "Runtime: 155 min\n",
      "Genre: Action, Adventure, Drama\n",
      "Director: Ridley Scott\n",
      "Writer: David Franzoni (story), David Franzoni (screenplay), John Logan (screenplay), William Nicholson (screenplay)\n",
      "Actors: Russell Crowe, Joaquin Phoenix, Connie Nielsen, Oliver Reed\n",
      "Plot: A former Roman General sets out to exact vengeance against the corrupt emperor who murdered his family and sent him into slavery.\n",
      "Language: English\n",
      "Country: USA, UK, Malta, Morocco\n",
      "Awards: Won 5 Oscars. Another 54 wins & 104 nominations.\n",
      "Poster: https://m.media-amazon.com/images/M/MV5BMDliMmNhNDEtODUyOS00MjNlLTgxODEtN2U3NzIxMGVkZTA1L2ltYWdlXkEyXkFqcGdeQXVyNjU0OTQ0OTY@._V1_SX300.jpg\n",
      "Ratings: [{'Source': 'Internet Movie Database', 'Value': '8.5/10'}, {'Source': 'Rotten Tomatoes', 'Value': '77%'}, {'Source': 'Metacritic', 'Value': '67/100'}]\n",
      "Metascore: 67\n",
      "imdbRating: 8.5\n",
      "imdbVotes: 1,303,529\n",
      "imdbID: tt0172495\n",
      "Type: movie\n",
      "DVD: 21 Nov 2000\n",
      "BoxOffice: N/A\n",
      "Production: Dreamworks Distribution LLC\n",
      "Website: N/A\n",
      "Response: True\n"
     ]
    }
   ],
   "source": [
    "for key, value in json_data.items():\n",
    "    print(key + \":\", value)"
   ]
  },
  {
   "cell_type": "markdown",
   "metadata": {},
   "source": [
    "The JSON for the movie was downloaded from the [OMDb API Website.](http://www.omdbapi.com/)"
   ]
  },
  {
   "cell_type": "markdown",
   "metadata": {},
   "source": [
    "## API requests "
   ]
  },
  {
   "cell_type": "code",
   "execution_count": 11,
   "metadata": {},
   "outputs": [
    {
     "name": "stdout",
     "output_type": "stream",
     "text": [
      "Title: The Avengers\n",
      "Year: 2012\n",
      "Rated: PG-13\n",
      "Released: 04 May 2012\n",
      "Runtime: 143 min\n",
      "Genre: Action, Adventure, Sci-Fi\n",
      "Director: Joss Whedon\n",
      "Writer: Joss Whedon (screenplay), Zak Penn (story), Joss Whedon (story)\n",
      "Actors: Robert Downey Jr., Chris Evans, Mark Ruffalo, Chris Hemsworth\n",
      "Plot: Earth's mightiest heroes must come together and learn to fight as a team if they are going to stop the mischievous Loki and his alien army from enslaving humanity.\n",
      "Language: English, Russian, Hindi\n",
      "Country: USA\n",
      "Awards: Nominated for 1 Oscar. Another 38 wins & 79 nominations.\n",
      "Poster: https://m.media-amazon.com/images/M/MV5BNDYxNjQyMjAtNTdiOS00NGYwLWFmNTAtNThmYjU5ZGI2YTI1XkEyXkFqcGdeQXVyMTMxODk2OTU@._V1_SX300.jpg\n",
      "Ratings: [{'Source': 'Internet Movie Database', 'Value': '8.0/10'}, {'Source': 'Rotten Tomatoes', 'Value': '92%'}, {'Source': 'Metacritic', 'Value': '69/100'}]\n",
      "Metascore: 69\n",
      "imdbRating: 8.0\n",
      "imdbVotes: 1,239,566\n",
      "imdbID: tt0848228\n",
      "Type: movie\n",
      "DVD: 25 Sep 2012\n",
      "BoxOffice: $623,279,547\n",
      "Production: Walt Disney Pictures\n",
      "Website: N/A\n",
      "Response: True\n"
     ]
    }
   ],
   "source": [
    "import requests\n",
    "\n",
    "url = \"http://www.omdbapi.com/?apikey=4143fa86&t=the+avengers\"\n",
    "json_data = requests.get(url).json()\n",
    "\n",
    "\n",
    "for key, value in json_data.items():\n",
    "    print(key + \":\", value)"
   ]
  },
  {
   "cell_type": "markdown",
   "metadata": {},
   "source": [
    "The API key is obtained from the OMDb API site."
   ]
  }
 ],
 "metadata": {
  "kernelspec": {
   "display_name": "Python 3",
   "language": "python",
   "name": "python3"
  },
  "language_info": {
   "codemirror_mode": {
    "name": "ipython",
    "version": 3
   },
   "file_extension": ".py",
   "mimetype": "text/x-python",
   "name": "python",
   "nbconvert_exporter": "python",
   "pygments_lexer": "ipython3",
   "version": "3.7.4"
  }
 },
 "nbformat": 4,
 "nbformat_minor": 2
}
